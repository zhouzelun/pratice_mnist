{
 "cells": [
  {
   "cell_type": "code",
   "execution_count": 1,
   "metadata": {
    "collapsed": true
   },
   "outputs": [],
   "source": [
    "import tensorflow as tf"
   ]
  },
  {
   "cell_type": "code",
   "execution_count": 2,
   "metadata": {
    "collapsed": true
   },
   "outputs": [],
   "source": [
    "INPUT_NODE = 784 #输入层的节点数。对于MNIST数据集，这个就等于图片的像素。\n",
    "OUTPUT_NODE = 10 #输出层的节点数。这个等于类别的数目。因为在MNIST数据集中需要区分的事0-9，所以这里输出层的节点数为10。\n",
    "LAYER1_NODE = 500 #隐藏层节点数"
   ]
  },
  {
   "cell_type": "code",
   "execution_count": 4,
   "metadata": {
    "collapsed": true
   },
   "outputs": [],
   "source": [
    "def get_weight_variable(shape,regularizer):\n",
    "    #获取权重值以及计算正则项\n",
    "    weights = tf.get_variable(\"weights\",shape,initializer = tf.truncated_normal_initializer(stddev=0.1))\n",
    "    if regularizer != None:\n",
    "        tf.add_to_collection('losses',regularizer(weights))\n",
    "    return weights"
   ]
  },
  {
   "cell_type": "code",
   "execution_count": 5,
   "metadata": {
    "collapsed": true
   },
   "outputs": [],
   "source": [
    "def inference(input_tensor,regularizer):\n",
    "    #一次前向传播过程\n",
    "    with tf.variable_scope('layer1'):\n",
    "        weights = get_weight_variable([INPUT_NODE,LAYER1_NODE],regularizer)\n",
    "        biases = tf.get_variable(name = 'biases',shape=[LAYER1_NODE],\\\n",
    "                                    initializer = tf.constant_initializer(0.0))\n",
    "        layer1 = tf.nn.relu(tf.matmul(input_tensor,weights)+biases)\n",
    "    with tf.variable_scope('layer2'):\n",
    "        weights = get_weight_variable([LAYER1_NODE,OUTPUT_NODE],regularizer)\n",
    "        biases = tf.get_variable(name = 'biases',shape=[OUTPUT_NODE],\\\n",
    "                                    initializer = tf.constant_initializer(0.0))\n",
    "        return tf.matmul(layer1,weights)+biases\n",
    "    "
   ]
  }
 ],
 "metadata": {
  "kernelspec": {
   "display_name": "Python 3",
   "language": "python",
   "name": "python3"
  },
  "language_info": {
   "codemirror_mode": {
    "name": "ipython",
    "version": 3
   },
   "file_extension": ".py",
   "mimetype": "text/x-python",
   "name": "python",
   "nbconvert_exporter": "python",
   "pygments_lexer": "ipython3",
   "version": "3.6.3"
  }
 },
 "nbformat": 4,
 "nbformat_minor": 2
}
